{
 "cells": [
  {
   "cell_type": "code",
   "execution_count": null,
   "id": "operating-channel",
   "metadata": {},
   "outputs": [],
   "source": [
    "from city_tasks_assignment.classes import Problem\n",
    "import numpy as np\n",
    "import pandas as pd\n",
    "from matplotlib import pyplot as plt\n",
    "from time import time"
   ]
  },
  {
   "cell_type": "code",
   "execution_count": null,
   "id": "driven-maryland",
   "metadata": {},
   "outputs": [],
   "source": [
    "SAVE_PLOTS = False\n",
    "DPI = 400"
   ]
  },
  {
   "cell_type": "markdown",
   "id": "challenging-cradle",
   "metadata": {},
   "source": [
    "## Comparaison between sa_optimize and ilp_optimize"
   ]
  },
  {
   "cell_type": "code",
   "execution_count": null,
   "id": "following-second",
   "metadata": {},
   "outputs": [],
   "source": [
    "# Create random problem. Results may vary with different problems.\n",
    "\n",
    "problem = Problem()\n",
    "problem.create_random(11, 2, 2, 2)"
   ]
  },
  {
   "cell_type": "code",
   "execution_count": null,
   "id": "dynamic-southwest",
   "metadata": {},
   "outputs": [],
   "source": [
    "its = 10 # How many times to optimize"
   ]
  },
  {
   "cell_type": "code",
   "execution_count": null,
   "id": "north-potato",
   "metadata": {},
   "outputs": [],
   "source": [
    "# Comparaison\n",
    "\n",
    "ilp_times = np.empty((its, ))\n",
    "ilp_fss = np.empty((its,))\n",
    "\n",
    "sa_times = np.empty((its,))\n",
    "sa_fss = np.empty((its,))\n",
    "\n",
    "for i in range(its):\n",
    "    st = time()\n",
    "    ilp_fss[i], ls = problem.ilp_optimize()\n",
    "    ilp_times[i] = time() - st\n",
    "    \n",
    "    st = time()\n",
    "    sa_fss[i], _, fss = problem.sa_optimize(ini_tasks_to_rearrange=5)\n",
    "    sa_times[i] = time() - st"
   ]
  },
  {
   "cell_type": "code",
   "execution_count": null,
   "id": "hydraulic-winner",
   "metadata": {},
   "outputs": [],
   "source": [
    "ls = list(zip([ilp_fss[0], 0],\n",
    "              [np.mean(ilp_times), np.std(ilp_times)],\n",
    "              [np.mean(sa_fss), np.std(sa_fss)],\n",
    "              [np.mean(sa_times), np.std(sa_times)]))\n",
    "\n",
    "df = pd.DataFrame(ls, index=['mean', 'std'], columns=['ilp_fitness', 'ilp_times', 'sa_fitness', 'sa_times'])\n",
    "df"
   ]
  },
  {
   "cell_type": "code",
   "execution_count": null,
   "id": "comparative-delight",
   "metadata": {},
   "outputs": [],
   "source": [
    "plt.boxplot(sa_fss, vert=False)\n",
    "_, _, ym, yM = plt.axis()\n",
    "plt.plot([ilp_fss[0], ilp_fss[0]], [ym + .1, yM -.1])\n",
    "plt.yticks([])\n",
    "plt.title('Evaluación de la solución encontrada')\n",
    "\n",
    "if SAVE_PLOTS:\n",
    "    plt.savefig(\"boxplot.png\", dpi=DPI)\n",
    "else:\n",
    "    plt.show()"
   ]
  },
  {
   "cell_type": "markdown",
   "id": "proper-beatles",
   "metadata": {},
   "source": [
    "## Comparaison between different rearangement methods"
   ]
  },
  {
   "cell_type": "code",
   "execution_count": null,
   "id": "surprising-outside",
   "metadata": {},
   "outputs": [],
   "source": [
    "# Create random problem with 99 tasks\n",
    "\n",
    "p1 = Problem()\n",
    "p1.create_random(100, 5, n_days=5)"
   ]
  },
  {
   "cell_type": "code",
   "execution_count": null,
   "id": "anonymous-limitation",
   "metadata": {},
   "outputs": [],
   "source": [
    "inter = p1.sa_optimize(rearrange_opt=0)[-1]\n",
    "op = p1.sa_optimize(rearrange_opt=1)[-1]\n",
    "perm = p1.sa_optimize(rearrange_opt=2)[-1]\n",
    "pegar = p1.sa_optimize(rearrange_opt=3)[-1]\n",
    "remute = p1.sa_optimize(rearrange_opt=4)[-1]"
   ]
  },
  {
   "cell_type": "code",
   "execution_count": null,
   "id": "ordinary-tension",
   "metadata": {},
   "outputs": [],
   "source": [
    "plt.plot(inter, label='Intercambiar')\n",
    "plt.plot(op + [op[-1]] * 10, label='Sentido opuesto')\n",
    "plt.plot(perm, label='Permutación')\n",
    "plt.plot(pegar, label='Eliminar y Pegar')\n",
    "plt.legend()\n",
    "\n",
    "if SAVE_PLOTS:\n",
    "    plt.savefig(\"comp_reorg.png\", dpi=DPI)\n",
    "else:\n",
    "    plt.show()"
   ]
  },
  {
   "cell_type": "code",
   "execution_count": null,
   "id": "choice-prince",
   "metadata": {},
   "outputs": [],
   "source": [
    "plt.plot(perm, label='Permutación')\n",
    "plt.plot(pegar, label='Eliminar y Pegar')\n",
    "plt.plot(remute, label='Combinación')\n",
    "plt.legend()\n",
    "\n",
    "if SAVE_PLOTS:\n",
    "    plt.savefig(\"comp_reorg_selection.png\", dpi=DPI)\n",
    "else:\n",
    "    plt.show()"
   ]
  },
  {
   "cell_type": "markdown",
   "id": "dietary-priest",
   "metadata": {},
   "source": [
    "## Montecarlo simulations for the multiobjective problem."
   ]
  },
  {
   "cell_type": "code",
   "execution_count": null,
   "id": "designed-hungary",
   "metadata": {},
   "outputs": [],
   "source": [
    "problem = Problem()\n",
    "problem.create_random(11, 2, 2, 2)"
   ]
  },
  {
   "cell_type": "code",
   "execution_count": null,
   "id": "smooth-favor",
   "metadata": {},
   "outputs": [],
   "source": [
    "# Non deterministic times and costs\n",
    "fs = problem.monte_carlo_simulation(\"MO_fitness.txt\", [.1]*11*11, [.1]*2*11, [0.001]*5*10, [.001]*10, 1, 0, 40, 40, its=30, print_conf=False)"
   ]
  },
  {
   "cell_type": "code",
   "execution_count": null,
   "id": "antique-wings",
   "metadata": {},
   "outputs": [],
   "source": [
    "problem.plot_fs_MC(fs, savefig=SAVE_PLOTS, dpi=DPI)"
   ]
  },
  {
   "cell_type": "code",
   "execution_count": null,
   "id": "proof-scale",
   "metadata": {},
   "outputs": [],
   "source": [
    "# Multi-objective parameters\n",
    "ls = problem.monte_carlo_simulation_MO(\"sols.txt\", 40, 40, its=100, print_conf=False)"
   ]
  },
  {
   "cell_type": "code",
   "execution_count": null,
   "id": "critical-republican",
   "metadata": {},
   "outputs": [],
   "source": [
    "problem.plot_MO(ls, 10, savefig=SAVE_PLOTS, dpi=DPI)"
   ]
  }
 ],
 "metadata": {
  "kernelspec": {
   "display_name": "Python 3",
   "language": "python",
   "name": "python3"
  },
  "language_info": {
   "codemirror_mode": {
    "name": "ipython",
    "version": 3
   },
   "file_extension": ".py",
   "mimetype": "text/x-python",
   "name": "python",
   "nbconvert_exporter": "python",
   "pygments_lexer": "ipython3",
   "version": "3.9.1"
  }
 },
 "nbformat": 4,
 "nbformat_minor": 5
}