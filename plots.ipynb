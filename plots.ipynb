{
 "cells": [
  {
   "cell_type": "code",
   "execution_count": 1,
   "id": "operating-channel",
   "metadata": {},
   "outputs": [
    {
     "data": {
      "text/html": [
       "\n",
       "\t\t\t<script type=\"text/javascript\">\n",
       "\t\t\t<!--\n",
       "\t\t\t\t\n",
       "\t\t\t{\n",
       "\t\t\t\tvar element = document.getElementById('NetworKit_script');\n",
       "\t\t\t\tif (element) {\n",
       "\t\t\t\t\telement.parentNode.removeChild(element);\n",
       "\t\t\t\t}\n",
       "\t\t\t\telement = document.createElement('script');\n",
       "\t\t\t\telement.type = 'text/javascript';\n",
       "\t\t\t\telement.innerHTML = 'function NetworKit_pageEmbed(id) { var i, j; var elements; elements = document.getElementById(id).getElementsByClassName(\"Plot\"); for (i=0; i<elements.length; i++) { elements[i].id = id + \"_Plot_\" + i; var data = elements[i].getAttribute(\"data-image\").split(\"|\"); elements[i].removeAttribute(\"data-image\"); var content = \"<div class=\\\\\"Image\\\\\" id=\\\\\"\" + elements[i].id + \"_Image\\\\\" />\"; elements[i].innerHTML = content; elements[i].setAttribute(\"data-image-index\", 0); elements[i].setAttribute(\"data-image-length\", data.length); for (j=0; j<data.length; j++) { elements[i].setAttribute(\"data-image-\" + j, data[j]); } NetworKit_plotUpdate(elements[i]); elements[i].onclick = function (e) { NetworKit_overlayShow((e.target) ? e.target : e.srcElement); } } elements = document.getElementById(id).getElementsByClassName(\"HeatCell\"); for (i=0; i<elements.length; i++) { var data = parseFloat(elements[i].getAttribute(\"data-heat\")); var color = \"#00FF00\"; if (data <= 1 && data > 0) { color = \"hsla(0, 100%, 75%, \" + (data) + \")\"; } else if (data <= 0 && data >= -1) { color = \"hsla(240, 100%, 75%, \" + (-data) + \")\"; } elements[i].style.backgroundColor = color; } elements = document.getElementById(id).getElementsByClassName(\"Details\"); for (i=0; i<elements.length; i++) { elements[i].setAttribute(\"data-title\", \"-\"); NetworKit_toggleDetails(elements[i]); elements[i].onclick = function (e) { NetworKit_toggleDetails((e.target) ? e.target : e.srcElement); } } elements = document.getElementById(id).getElementsByClassName(\"MathValue\"); for (i=elements.length-1; i>=0; i--) { value = elements[i].innerHTML.trim(); if (value === \"nan\") { elements[i].parentNode.innerHTML = \"\" } } elements = document.getElementById(id).getElementsByClassName(\"SubCategory\"); for (i=elements.length-1; i>=0; i--) { value = elements[i].innerHTML.trim(); if (value === \"\") { elements[i].parentNode.removeChild(elements[i]) } } elements = document.getElementById(id).getElementsByClassName(\"Category\"); for (i=elements.length-1; i>=0; i--) { value = elements[i].innerHTML.trim(); if (value === \"\") { elements[i].parentNode.removeChild(elements[i]) } } var isFirefox = false; try { isFirefox = typeof InstallTrigger !== \"undefined\"; } catch (e) {} if (!isFirefox) { alert(\"Currently the function\\'s output is only fully supported by Firefox.\"); } } function NetworKit_plotUpdate(source) { var index = source.getAttribute(\"data-image-index\"); var data = source.getAttribute(\"data-image-\" + index); var image = document.getElementById(source.id + \"_Image\"); image.style.backgroundImage = \"url(\" + data + \")\"; } function NetworKit_showElement(id, show) { var element = document.getElementById(id); element.style.display = (show) ? \"block\" : \"none\"; } function NetworKit_overlayShow(source) { NetworKit_overlayUpdate(source); NetworKit_showElement(\"NetworKit_Overlay\", true); } function NetworKit_overlayUpdate(source) { document.getElementById(\"NetworKit_Overlay_Title\").innerHTML = source.title; var index = source.getAttribute(\"data-image-index\"); var data = source.getAttribute(\"data-image-\" + index); var image = document.getElementById(\"NetworKit_Overlay_Image\"); image.setAttribute(\"data-id\", source.id); image.style.backgroundImage = \"url(\" + data + \")\"; var link = document.getElementById(\"NetworKit_Overlay_Toolbar_Bottom_Save\"); link.href = data; link.download = source.title + \".svg\"; } function NetworKit_overlayImageShift(delta) { var image = document.getElementById(\"NetworKit_Overlay_Image\"); var source = document.getElementById(image.getAttribute(\"data-id\")); var index = parseInt(source.getAttribute(\"data-image-index\")); var length = parseInt(source.getAttribute(\"data-image-length\")); var index = (index+delta) % length; if (index < 0) { index = length + index; } source.setAttribute(\"data-image-index\", index); NetworKit_overlayUpdate(source); } function NetworKit_toggleDetails(source) { var childs = source.children; var show = false; if (source.getAttribute(\"data-title\") == \"-\") { source.setAttribute(\"data-title\", \"+\"); show = false; } else { source.setAttribute(\"data-title\", \"-\"); show = true; } for (i=0; i<childs.length; i++) { if (show) { childs[i].style.display = \"block\"; } else { childs[i].style.display = \"none\"; } } }';\n",
       "\t\t\t\telement.setAttribute('id', 'NetworKit_script');\n",
       "\t\t\t\tdocument.head.appendChild(element);\n",
       "\t\t\t}\n",
       "\t\t\n",
       "\t\t\t\t\n",
       "\t\t\t{\n",
       "\t\t\t\tvar element = document.getElementById('NetworKit_style');\n",
       "\t\t\t\tif (element) {\n",
       "\t\t\t\t\telement.parentNode.removeChild(element);\n",
       "\t\t\t\t}\n",
       "\t\t\t\telement = document.createElement('style');\n",
       "\t\t\t\telement.type = 'text/css';\n",
       "\t\t\t\telement.innerHTML = '.NetworKit_Page { font-family: Arial, Helvetica, sans-serif; font-size: 14px; } .NetworKit_Page .Value:before { font-family: Arial, Helvetica, sans-serif; font-size: 1.05em; content: attr(data-title) \":\"; margin-left: -2.5em; padding-right: 0.5em; } .NetworKit_Page .Details .Value:before { display: block; } .NetworKit_Page .Value { font-family: monospace; white-space: pre; padding-left: 2.5em; white-space: -moz-pre-wrap !important; white-space: -pre-wrap; white-space: -o-pre-wrap; white-space: pre-wrap; word-wrap: break-word; tab-size: 4; -moz-tab-size: 4; } .NetworKit_Page .Category { clear: both; padding-left: 1em; margin-bottom: 1.5em; } .NetworKit_Page .Category:before { content: attr(data-title); font-size: 1.75em; display: block; margin-left: -0.8em; margin-bottom: 0.5em; } .NetworKit_Page .SubCategory { margin-bottom: 1.5em; padding-left: 1em; } .NetworKit_Page .SubCategory:before { font-size: 1.6em; display: block; margin-left: -0.8em; margin-bottom: 0.5em; } .NetworKit_Page .SubCategory[data-title]:before { content: attr(data-title); } .NetworKit_Page .Block { display: block; } .NetworKit_Page .Block:after { content: \".\"; visibility: hidden; display: block; height: 0; clear: both; } .NetworKit_Page .Block .Thumbnail_Overview, .NetworKit_Page .Block .Thumbnail_ScatterPlot { width: 260px; float: left; } .NetworKit_Page .Block .Thumbnail_Overview img, .NetworKit_Page .Block .Thumbnail_ScatterPlot img { width: 260px; } .NetworKit_Page .Block .Thumbnail_Overview:before, .NetworKit_Page .Block .Thumbnail_ScatterPlot:before { display: block; text-align: center; font-weight: bold; } .NetworKit_Page .Block .Thumbnail_Overview:before { content: attr(data-title); } .NetworKit_Page .HeatCell { font-family: \"Courier New\", Courier, monospace; cursor: pointer; } .NetworKit_Page .HeatCell, .NetworKit_Page .HeatCellName { display: inline; padding: 0.1em; margin-right: 2px; background-color: #FFFFFF } .NetworKit_Page .HeatCellName { margin-left: 0.25em; } .NetworKit_Page .HeatCell:before { content: attr(data-heat); display: inline-block; color: #000000; width: 4em; text-align: center; } .NetworKit_Page .Measure { clear: both; } .NetworKit_Page .Measure .Details { cursor: pointer; } .NetworKit_Page .Measure .Details:before { content: \"[\" attr(data-title) \"]\"; display: block; } .NetworKit_Page .Measure .Details .Value { border-left: 1px dotted black; margin-left: 0.4em; padding-left: 3.5em; pointer-events: none; } .NetworKit_Page .Measure .Details .Spacer:before { content: \".\"; opacity: 0.0; pointer-events: none; } .NetworKit_Page .Measure .Plot { width: 440px; height: 440px; cursor: pointer; float: left; margin-left: -0.9em; margin-right: 20px; } .NetworKit_Page .Measure .Plot .Image { background-repeat: no-repeat; background-position: center center; background-size: contain; height: 100%; pointer-events: none; } .NetworKit_Page .Measure .Stat { width: 500px; float: left; } .NetworKit_Page .Measure .Stat .Group { padding-left: 1.25em; margin-bottom: 0.75em; } .NetworKit_Page .Measure .Stat .Group .Title { font-size: 1.1em; display: block; margin-bottom: 0.3em; margin-left: -0.75em; border-right-style: dotted; border-right-width: 1px; border-bottom-style: dotted; border-bottom-width: 1px; background-color: #D0D0D0; padding-left: 0.2em; } .NetworKit_Page .Measure .Stat .Group .List { -webkit-column-count: 3; -moz-column-count: 3; column-count: 3; } .NetworKit_Page .Measure .Stat .Group .List .Entry { position: relative; line-height: 1.75em; } .NetworKit_Page .Measure .Stat .Group .List .Entry[data-tooltip]:before { position: absolute; left: 0; top: -40px; background-color: #808080; color: #ffffff; height: 30px; line-height: 30px; border-radius: 5px; padding: 0 15px; content: attr(data-tooltip); white-space: nowrap; display: none; } .NetworKit_Page .Measure .Stat .Group .List .Entry[data-tooltip]:after { position: absolute; left: 15px; top: -10px; border-top: 7px solid #808080; border-left: 7px solid transparent; border-right: 7px solid transparent; content: \"\"; display: none; } .NetworKit_Page .Measure .Stat .Group .List .Entry[data-tooltip]:hover:after, .NetworKit_Page .Measure .Stat .Group .List .Entry[data-tooltip]:hover:before { display: block; } .NetworKit_Page .Measure .Stat .Group .List .Entry .MathValue { font-family: \"Courier New\", Courier, monospace; } .NetworKit_Page .Measure:after { content: \".\"; visibility: hidden; display: block; height: 0; clear: both; } .NetworKit_Page .PartitionPie { clear: both; } .NetworKit_Page .PartitionPie img { width: 600px; } #NetworKit_Overlay { left: 0px; top: 0px; display: none; position: absolute; width: 100%; height: 100%; background-color: rgba(0,0,0,0.6); z-index: 1000; } #NetworKit_Overlay_Title { position: absolute; color: white; transform: rotate(-90deg); width: 32em; height: 32em; padding-right: 0.5em; padding-top: 0.5em; text-align: right; font-size: 40px; } #NetworKit_Overlay .button { background: white; cursor: pointer; } #NetworKit_Overlay .button:before { size: 13px; display: inline-block; text-align: center; margin-top: 0.5em; margin-bottom: 0.5em; width: 1.5em; height: 1.5em; } #NetworKit_Overlay .icon-close:before { content: \"X\"; } #NetworKit_Overlay .icon-previous:before { content: \"P\"; } #NetworKit_Overlay .icon-next:before { content: \"N\"; } #NetworKit_Overlay .icon-save:before { content: \"S\"; } #NetworKit_Overlay_Toolbar_Top, #NetworKit_Overlay_Toolbar_Bottom { position: absolute; width: 40px; right: 13px; text-align: right; z-index: 1100; } #NetworKit_Overlay_Toolbar_Top { top: 0.5em; } #NetworKit_Overlay_Toolbar_Bottom { Bottom: 0.5em; } #NetworKit_Overlay_ImageContainer { position: absolute; top: 5%; left: 5%; height: 90%; width: 90%; background-repeat: no-repeat; background-position: center center; background-size: contain; } #NetworKit_Overlay_Image { height: 100%; width: 100%; background-repeat: no-repeat; background-position: center center; background-size: contain; }';\n",
       "\t\t\t\telement.setAttribute('id', 'NetworKit_style');\n",
       "\t\t\t\tdocument.head.appendChild(element);\n",
       "\t\t\t}\n",
       "\t\t\n",
       "\t\t\t\t\n",
       "\t\t\t{\n",
       "\t\t\t\tvar element = document.getElementById('NetworKit_Overlay');\n",
       "\t\t\t\tif (element) {\n",
       "\t\t\t\t\telement.parentNode.removeChild(element);\n",
       "\t\t\t\t}\n",
       "\t\t\t\telement = document.createElement('div');\n",
       "\t\t\t\telement.innerHTML = '<div id=\"NetworKit_Overlay_Toolbar_Top\"><div class=\"button icon-close\" id=\"NetworKit_Overlay_Close\" /></div><div id=\"NetworKit_Overlay_Title\" /> <div id=\"NetworKit_Overlay_ImageContainer\"> <div id=\"NetworKit_Overlay_Image\" /> </div> <div id=\"NetworKit_Overlay_Toolbar_Bottom\"> <div class=\"button icon-previous\" onclick=\"NetworKit_overlayImageShift(-1)\" /> <div class=\"button icon-next\" onclick=\"NetworKit_overlayImageShift(1)\" /> <a id=\"NetworKit_Overlay_Toolbar_Bottom_Save\"><div class=\"button icon-save\" /></a> </div>';\n",
       "\t\t\t\telement.setAttribute('id', 'NetworKit_Overlay');\n",
       "\t\t\t\tdocument.body.appendChild(element);\n",
       "\t\t\t\tdocument.getElementById('NetworKit_Overlay_Close').onclick = function (e) {\n",
       "\t\t\t\t\tdocument.getElementById('NetworKit_Overlay').style.display = 'none';\n",
       "\t\t\t\t}\n",
       "\t\t\t}\n",
       "\t\t\n",
       "\t\t\t-->\n",
       "\t\t\t</script>\n",
       "\t\t"
      ]
     },
     "metadata": {},
     "output_type": "display_data"
    }
   ],
   "source": [
    "from city_tasks_assignment.classes import Problem\n",
    "import numpy as np\n",
    "import pandas as pd\n",
    "from matplotlib import pyplot as plt\n",
    "from time import time\n",
    "from scipy.stats import norm # To fit normal distribution"
   ]
  },
  {
   "cell_type": "code",
   "execution_count": 2,
   "id": "driven-maryland",
   "metadata": {},
   "outputs": [],
   "source": [
    "SAVE_PLOTS = False\n",
    "DPI = 400"
   ]
  },
  {
   "cell_type": "markdown",
   "id": "challenging-cradle",
   "metadata": {},
   "source": [
    "## Comparaison between sa_optimize and ilp_optimize"
   ]
  },
  {
   "cell_type": "code",
   "execution_count": 3,
   "id": "following-second",
   "metadata": {},
   "outputs": [],
   "source": [
    "# Create random problem. Results may vary with different problems.\n",
    "\n",
    "problem = Problem()\n",
    "problem.create_random(11, 2, 2, 2)"
   ]
  },
  {
   "cell_type": "code",
   "execution_count": 4,
   "id": "dynamic-southwest",
   "metadata": {},
   "outputs": [],
   "source": [
    "its = 10 # How many times to optimize"
   ]
  },
  {
   "cell_type": "code",
   "execution_count": 5,
   "id": "north-potato",
   "metadata": {},
   "outputs": [],
   "source": [
    "# Comparaison\n",
    "\n",
    "ilp_times = np.empty((its, ))\n",
    "ilp_fss = np.empty((its,))\n",
    "\n",
    "sa_times = np.empty((its,))\n",
    "sa_fss = np.empty((its,))\n",
    "\n",
    "for i in range(its):\n",
    "    st = time()\n",
    "    ilp_fss[i], ls = problem.ilp_optimize()\n",
    "    ilp_times[i] = time() - st\n",
    "    \n",
    "    st = time()\n",
    "    sa_fss[i], _, fss = problem.sa_optimize(ini_tasks_to_rearrange=5)\n",
    "    sa_times[i] = time() - st"
   ]
  },
  {
   "cell_type": "code",
   "execution_count": 6,
   "id": "hydraulic-winner",
   "metadata": {},
   "outputs": [
    {
     "data": {
      "text/html": [
       "<div>\n",
       "<style scoped>\n",
       "    .dataframe tbody tr th:only-of-type {\n",
       "        vertical-align: middle;\n",
       "    }\n",
       "\n",
       "    .dataframe tbody tr th {\n",
       "        vertical-align: top;\n",
       "    }\n",
       "\n",
       "    .dataframe thead th {\n",
       "        text-align: right;\n",
       "    }\n",
       "</style>\n",
       "<table border=\"1\" class=\"dataframe\">\n",
       "  <thead>\n",
       "    <tr style=\"text-align: right;\">\n",
       "      <th></th>\n",
       "      <th>ilp_fitness</th>\n",
       "      <th>ilp_times</th>\n",
       "      <th>sa_fitness</th>\n",
       "      <th>sa_times</th>\n",
       "    </tr>\n",
       "  </thead>\n",
       "  <tbody>\n",
       "    <tr>\n",
       "      <th>mean</th>\n",
       "      <td>11.940551</td>\n",
       "      <td>18.908027</td>\n",
       "      <td>12.189108</td>\n",
       "      <td>0.232017</td>\n",
       "    </tr>\n",
       "    <tr>\n",
       "      <th>std</th>\n",
       "      <td>0.000000</td>\n",
       "      <td>2.509626</td>\n",
       "      <td>0.721901</td>\n",
       "      <td>0.014834</td>\n",
       "    </tr>\n",
       "  </tbody>\n",
       "</table>\n",
       "</div>"
      ],
      "text/plain": [
       "      ilp_fitness  ilp_times  sa_fitness  sa_times\n",
       "mean    11.940551  18.908027   12.189108  0.232017\n",
       "std      0.000000   2.509626    0.721901  0.014834"
      ]
     },
     "execution_count": 6,
     "metadata": {},
     "output_type": "execute_result"
    }
   ],
   "source": [
    "ls = list(zip([ilp_fss[0], 0],\n",
    "              [np.mean(ilp_times), np.std(ilp_times)],\n",
    "              [np.mean(sa_fss), np.std(sa_fss)],\n",
    "              [np.mean(sa_times), np.std(sa_times)]))\n",
    "\n",
    "df = pd.DataFrame(ls, index=['mean', 'std'], columns=['ilp_fitness', 'ilp_times', 'sa_fitness', 'sa_times'])\n",
    "df"
   ]
  },
  {
   "cell_type": "code",
   "execution_count": 7,
   "id": "comparative-delight",
   "metadata": {},
   "outputs": [
    {
     "data": {
      "image/png": "[encoded data removed]",
      "text/plain": [
       "<Figure size 432x288 with 1 Axes>"
      ]
     },
     "metadata": {},
     "output_type": "display_data"
    }
   ],
   "source": [
    "plt.boxplot(sa_fss, vert=False)\n",
    "_, _, ym, yM = plt.axis()\n",
    "plt.plot([ilp_fss[0], ilp_fss[0]], [ym + .1, yM -.1])\n",
    "plt.yticks([])\n",
    "plt.title('Evaluación de la solución encontrada')\n",
    "\n",
    "if SAVE_PLOTS:\n",
    "    plt.savefig(\"boxplot.png\", dpi=DPI)\n",
    "else:\n",
    "    plt.show()"
   ]
  },
  {
   "cell_type": "markdown",
   "id": "proper-beatles",
   "metadata": {},
   "source": [
    "## Comparaison between different rearangement methods"
   ]
  },
  {
   "cell_type": "code",
   "execution_count": 8,
   "id": "surprising-outside",
   "metadata": {},
   "outputs": [],
   "source": [
    "# Create random problem with 99 tasks\n",
    "\n",
    "p1 = Problem()\n",
    "p1.create_random(100, 5, n_days=5)"
   ]
  },
  {
   "cell_type": "code",
   "execution_count": null,
   "id": "anonymous-limitation",
   "metadata": {},
   "outputs": [],
   "source": [
    "inter = p1.sa_optimize(rearrange_opt=0)[-1]\n",
    "op = p1.sa_optimize(rearrange_opt=1)[-1]\n",
    "perm = p1.sa_optimize(rearrange_opt=2)[-1]\n",
    "pegar = p1.sa_optimize(rearrange_opt=3)[-1]\n",
    "remute = p1.sa_optimize(rearrange_opt=4)[-1]"
   ]
  },
  {
   "cell_type": "code",
   "execution_count": null,
   "id": "ordinary-tension",
   "metadata": {},
   "outputs": [],
   "source": [
    "plt.plot(inter, label='Intercambiar')\n",
    "plt.plot(op + [op[-1]] * 10, label='Sentido opuesto')\n",
    "plt.plot(perm, label='Permutación')\n",
    "plt.plot(pegar, label='Eliminar y Pegar')\n",
    "plt.legend()\n",
    "\n",
    "if SAVE_PLOTS:\n",
    "    plt.savefig(\"comp_reorg.png\", dpi=DPI)\n",
    "else:\n",
    "    plt.show()"
   ]
  },
  {
   "cell_type": "code",
   "execution_count": null,
   "id": "choice-prince",
   "metadata": {},
   "outputs": [],
   "source": [
    "plt.plot(perm, label='Permutación')\n",
    "plt.plot(pegar, label='Eliminar y Pegar')\n",
    "plt.plot(remute, label='Combinación')\n",
    "plt.legend()\n",
    "\n",
    "if SAVE_PLOTS:\n",
    "    plt.savefig(\"comp_reorg_selection.png\", dpi=DPI)\n",
    "else:\n",
    "    plt.show()"
   ]
  },
  {
   "cell_type": "markdown",
   "id": "dietary-priest",
   "metadata": {},
   "source": [
    "## Montecarlo simulations for the multiobjective problem."
   ]
  },
  {
   "cell_type": "code",
   "execution_count": null,
   "id": "designed-hungary",
   "metadata": {},
   "outputs": [],
   "source": [
    "problem = Problem()\n",
    "problem.create_random(11, 2, 2, 2)"
   ]
  },
  {
   "cell_type": "markdown",
   "id": "metropolitan-decision",
   "metadata": {},
   "source": [
    "### Stochastic times and costs"
   ]
  },
  {
   "cell_type": "code",
   "execution_count": null,
   "id": "smooth-favor",
   "metadata": {},
   "outputs": [],
   "source": [
    "# Non deterministic times and costs\n",
    "fs = problem.monte_carlo_simulation(\"MO_fitness.txt\", [.3]*11*11, [.3]*2*11, [0.001]*5*10, [.001]*10, 1, 0, 40, 40, its=100, print_conf=False)"
   ]
  },
  {
   "cell_type": "code",
   "execution_count": null,
   "id": "south-survivor",
   "metadata": {},
   "outputs": [],
   "source": [
    "# Fit a normal distribution to the data:\n",
    "mu, std = norm.fit(fs)"
   ]
  },
  {
   "cell_type": "code",
   "execution_count": null,
   "id": "reliable-breast",
   "metadata": {},
   "outputs": [],
   "source": [
    "# Plot the normal distribution:\n",
    "xmin, xmax = min(fs), max(fs)\n",
    "x = np.linspace(xmin, xmax, 100)\n",
    "p = norm.pdf(x, mu, std)\n",
    "title = \"Distribución de las evaluaciones: mu = %.2f,  std = %.2f\" % (mu, std)\n",
    "plt.title(title)\n",
    "plt.plot(x, p, 'k', linewidth=2)\n",
    "\n",
    "# Plot the histogram:\n",
    "problem.plot_fs_MC(fs, savefig=SAVE_PLOTS, dpi=DPI)"
   ]
  },
  {
   "cell_type": "markdown",
   "id": "greek-integrity",
   "metadata": {},
   "source": [
    "### Multiobjective parameters"
   ]
  },
  {
   "cell_type": "code",
   "execution_count": null,
   "id": "proof-scale",
   "metadata": {},
   "outputs": [],
   "source": [
    "# Multi-objective parameters\n",
    "ls = problem.monte_carlo_simulation_MO(\"sols.txt\", 40, 40, its=100, print_conf=False)"
   ]
  },
  {
   "cell_type": "code",
   "execution_count": null,
   "id": "critical-republican",
   "metadata": {},
   "outputs": [],
   "source": [
    "problem.plot_MO(ls, savefig=SAVE_PLOTS, dpi=DPI)"
   ]
  },
  {
   "cell_type": "code",
   "execution_count": null,
   "id": "severe-watch",
   "metadata": {},
   "outputs": [],
   "source": []
  }
 ],
 "metadata": {
  "kernelspec": {
   "display_name": "Python 3",
   "language": "python",
   "name": "python3"
  },
  "language_info": {
   "codemirror_mode": {
    "name": "ipython",
    "version": 3
   },
   "file_extension": ".py",
   "mimetype": "text/x-python",
   "name": "python",
   "nbconvert_exporter": "python",
   "pygments_lexer": "ipython3",
   "version": "3.9.1"
  }
 },
 "nbformat": 4,
 "nbformat_minor": 5
}
