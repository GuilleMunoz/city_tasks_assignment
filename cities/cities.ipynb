{
 "cells": [
  {
   "cell_type": "code",
   "execution_count": 1,
   "id": "outside-operations",
   "metadata": {},
   "outputs": [],
   "source": [
    "import pandas as pd\n",
    "import numpy as np"
   ]
  },
  {
   "cell_type": "code",
   "execution_count": 2,
   "id": "ordered-disposition",
   "metadata": {},
   "outputs": [],
   "source": [
    "df = pd.read_csv(\"Oldenburg.csv\", header=None, sep=' ', usecols=[1,2,3], names=['st', 'end', 'len'])"
   ]
  },
  {
   "cell_type": "code",
   "execution_count": 3,
   "id": "silver-event",
   "metadata": {},
   "outputs": [
    {
     "data": {
      "text/html": [
       "<div>\n",
       "<style scoped>\n",
       "    .dataframe tbody tr th:only-of-type {\n",
       "        vertical-align: middle;\n",
       "    }\n",
       "\n",
       "    .dataframe tbody tr th {\n",
       "        vertical-align: top;\n",
       "    }\n",
       "\n",
       "    .dataframe thead th {\n",
       "        text-align: right;\n",
       "    }\n",
       "</style>\n",
       "<table border=\"1\" class=\"dataframe\">\n",
       "  <thead>\n",
       "    <tr style=\"text-align: right;\">\n",
       "      <th></th>\n",
       "      <th>st</th>\n",
       "      <th>end</th>\n",
       "      <th>len</th>\n",
       "    </tr>\n",
       "  </thead>\n",
       "  <tbody>\n",
       "    <tr>\n",
       "      <th>0</th>\n",
       "      <td>1609</td>\n",
       "      <td>1622</td>\n",
       "      <td>57.403187</td>\n",
       "    </tr>\n",
       "    <tr>\n",
       "      <th>1</th>\n",
       "      <td>2471</td>\n",
       "      <td>2479</td>\n",
       "      <td>29.718756</td>\n",
       "    </tr>\n",
       "    <tr>\n",
       "      <th>2</th>\n",
       "      <td>2463</td>\n",
       "      <td>2471</td>\n",
       "      <td>61.706902</td>\n",
       "    </tr>\n",
       "    <tr>\n",
       "      <th>3</th>\n",
       "      <td>2443</td>\n",
       "      <td>2448</td>\n",
       "      <td>19.080025</td>\n",
       "    </tr>\n",
       "    <tr>\n",
       "      <th>4</th>\n",
       "      <td>1417</td>\n",
       "      <td>1491</td>\n",
       "      <td>28.248583</td>\n",
       "    </tr>\n",
       "  </tbody>\n",
       "</table>\n",
       "</div>"
      ],
      "text/plain": [
       "     st   end        len\n",
       "0  1609  1622  57.403187\n",
       "1  2471  2479  29.718756\n",
       "2  2463  2471  61.706902\n",
       "3  2443  2448  19.080025\n",
       "4  1417  1491  28.248583"
      ]
     },
     "execution_count": 3,
     "metadata": {},
     "output_type": "execute_result"
    }
   ],
   "source": [
    "df.head()"
   ]
  },
  {
   "cell_type": "code",
   "execution_count": 4,
   "id": "african-newsletter",
   "metadata": {},
   "outputs": [],
   "source": [
    "# Transform LENGTH to Km/h (we supose 50 Km/h is the maximum speed)\n",
    "df['len'] = df['len'] / 50000"
   ]
  },
  {
   "cell_type": "code",
   "execution_count": 5,
   "id": "automated-punch",
   "metadata": {},
   "outputs": [
    {
     "data": {
      "text/html": [
       "<div>\n",
       "<style scoped>\n",
       "    .dataframe tbody tr th:only-of-type {\n",
       "        vertical-align: middle;\n",
       "    }\n",
       "\n",
       "    .dataframe tbody tr th {\n",
       "        vertical-align: top;\n",
       "    }\n",
       "\n",
       "    .dataframe thead th {\n",
       "        text-align: right;\n",
       "    }\n",
       "</style>\n",
       "<table border=\"1\" class=\"dataframe\">\n",
       "  <thead>\n",
       "    <tr style=\"text-align: right;\">\n",
       "      <th></th>\n",
       "      <th>st</th>\n",
       "      <th>end</th>\n",
       "      <th>len</th>\n",
       "    </tr>\n",
       "  </thead>\n",
       "  <tbody>\n",
       "    <tr>\n",
       "      <th>0</th>\n",
       "      <td>1609</td>\n",
       "      <td>1622</td>\n",
       "      <td>0.001148</td>\n",
       "    </tr>\n",
       "    <tr>\n",
       "      <th>1</th>\n",
       "      <td>2471</td>\n",
       "      <td>2479</td>\n",
       "      <td>0.000594</td>\n",
       "    </tr>\n",
       "    <tr>\n",
       "      <th>2</th>\n",
       "      <td>2463</td>\n",
       "      <td>2471</td>\n",
       "      <td>0.001234</td>\n",
       "    </tr>\n",
       "    <tr>\n",
       "      <th>3</th>\n",
       "      <td>2443</td>\n",
       "      <td>2448</td>\n",
       "      <td>0.000382</td>\n",
       "    </tr>\n",
       "    <tr>\n",
       "      <th>4</th>\n",
       "      <td>1417</td>\n",
       "      <td>1491</td>\n",
       "      <td>0.000565</td>\n",
       "    </tr>\n",
       "  </tbody>\n",
       "</table>\n",
       "</div>"
      ],
      "text/plain": [
       "     st   end       len\n",
       "0  1609  1622  0.001148\n",
       "1  2471  2479  0.000594\n",
       "2  2463  2471  0.001234\n",
       "3  2443  2448  0.000382\n",
       "4  1417  1491  0.000565"
      ]
     },
     "execution_count": 5,
     "metadata": {},
     "output_type": "execute_result"
    }
   ],
   "source": [
    "df.head()"
   ]
  },
  {
   "cell_type": "code",
   "execution_count": 6,
   "id": "south-pasta",
   "metadata": {},
   "outputs": [],
   "source": [
    "# Save dataframe\n",
    "df.to_csv('Oldenburg.graph', sep=' ', index=False, header=False)"
   ]
  },
  {
   "cell_type": "code",
   "execution_count": 53,
   "id": "wanted-vertical",
   "metadata": {},
   "outputs": [],
   "source": [
    "TASKS = 20\n",
    "TEAMS = 5\n",
    "SHIFTS = 2\n",
    "DAYS = 3"
   ]
  },
  {
   "cell_type": "code",
   "execution_count": 54,
   "id": "statutory-bermuda",
   "metadata": {},
   "outputs": [],
   "source": [
    "NODES = max(df['st'])"
   ]
  },
  {
   "cell_type": "code",
   "execution_count": 55,
   "id": "aerial-custom",
   "metadata": {},
   "outputs": [],
   "source": [
    "locs = np.random.randint(1, high=NODES, size=TASKS + 1)"
   ]
  },
  {
   "cell_type": "code",
   "execution_count": 56,
   "id": "coastal-johns",
   "metadata": {},
   "outputs": [],
   "source": [
    "tasks_times = np.tile(np.random.rand(TASKS) * 2, (TEAMS, 1))\n",
    "tasks_times[0, :] /= 1.3\n",
    "tasks_times[1, :] /= 1.25\n",
    "tasks_times[2, :] /= 1.1"
   ]
  },
  {
   "cell_type": "code",
   "execution_count": 57,
   "id": "streaming-attraction",
   "metadata": {},
   "outputs": [],
   "source": [
    "spec = np.random.randint(0, high=TASKS, size= (TEAMS, TEAMS))\n",
    "index = np.arange(TEAMS)\n",
    "tasks_times[index, spec[index]] /= 2"
   ]
  },
  {
   "cell_type": "code",
   "execution_count": 58,
   "id": "outside-divorce",
   "metadata": {},
   "outputs": [
    {
     "data": {
      "text/plain": [
       "array([[0.98338181, 0.48934748, 0.98704524, 1.16151432, 0.18455163,\n",
       "        1.09611729, 1.35485141, 0.17497185, 0.66649075, 0.33033979,\n",
       "        0.72616089, 1.12636691, 0.14135518, 0.56427684, 1.2083481 ,\n",
       "        1.16384434, 0.03011083, 1.02797475, 0.35076058, 0.33365838],\n",
       "       [0.51135854, 0.50892137, 1.02652705, 1.20797489, 0.09596685,\n",
       "        1.13996198, 1.40904547, 0.18197073, 0.69315038, 0.34355338,\n",
       "        0.75520732, 1.17142159, 0.29401877, 0.58684791, 1.25668202,\n",
       "        1.21039811, 0.03131526, 1.06909374, 0.36479101, 0.34700471],\n",
       "       [1.16217851, 0.57831974, 0.58325401, 1.37269874, 0.10905324,\n",
       "        0.64770567, 1.60118803, 0.41356984, 1.57534177, 0.78080313,\n",
       "        0.85819014, 1.3311609 , 0.33411224, 0.66687262, 1.42804775,\n",
       "        0.6877262 , 0.03558553, 1.21487925, 0.41453523, 0.39432354],\n",
       "       [0.63919818, 0.63615172, 1.28315881, 1.50996861, 0.11995856,\n",
       "        1.42495247, 1.76130684, 0.45492682, 1.73287595, 0.85888345,\n",
       "        0.94400915, 1.46427699, 0.36752347, 0.73355989, 0.78542626,\n",
       "        1.51299764, 0.03914408, 0.66818359, 0.45598876, 0.43375589],\n",
       "       [0.63919818, 0.63615172, 1.28315881, 1.50996861, 0.11995856,\n",
       "        1.42495247, 1.76130684, 0.45492682, 1.73287595, 0.85888345,\n",
       "        0.94400915, 1.46427699, 0.18376173, 0.73355989, 0.78542626,\n",
       "        1.51299764, 0.03914408, 1.33636717, 0.22799438, 0.43375589]])"
      ]
     },
     "execution_count": 58,
     "metadata": {},
     "output_type": "execute_result"
    }
   ],
   "source": [
    "tasks_times"
   ]
  },
  {
   "cell_type": "code",
   "execution_count": 59,
   "id": "purple-johnson",
   "metadata": {},
   "outputs": [
    {
     "data": {
      "text/plain": [
       "array([14.10146836, 14.20521109, 16.18954608, 17.82624712, 18.0826746 ])"
      ]
     },
     "execution_count": 59,
     "metadata": {},
     "output_type": "execute_result"
    }
   ],
   "source": [
    "tasks_times.sum(axis=1)"
   ]
  },
  {
   "cell_type": "code",
   "execution_count": 60,
   "id": "identified-winner",
   "metadata": {},
   "outputs": [],
   "source": [
    "teams_costs_ = np.array([1000, 900, 700, 600, 550])\n",
    "teams_costs = np.zeros((TEAMS, DAYS * SHIFTS + 1))\n",
    "\n",
    "for i in range(TEAMS):\n",
    "    teams_costs[i, :] = teams_costs_[i]\n",
    "    \n",
    "teams_costs[:, -1] *= 2"
   ]
  },
  {
   "cell_type": "code",
   "execution_count": 61,
   "id": "guided-speaker",
   "metadata": {},
   "outputs": [],
   "source": [
    "tasks_costs_ = 10 * np.arange(DAYS * SHIFTS + 1)\n",
    "\n",
    "tasks_costs = np.tile(tasks_costs_, (TASKS, 1))"
   ]
  },
  {
   "cell_type": "code",
   "execution_count": 62,
   "id": "exposed-sierra",
   "metadata": {},
   "outputs": [],
   "source": [
    "with open('Oldenburg.tasks', 'w') as task_file:\n",
    "    \n",
    "    task_file.write(f'{DAYS}\\n{SHIFTS}\\n{TEAMS}\\n{locs[0]}\\n')\n",
    "    \n",
    "    task_file.write(' '.join(map(str, locs[1:])))\n",
    "    task_file.write('\\n')\n",
    "    \n",
    "    for i in range(TEAMS):\n",
    "        task_file.write(' '.join(map(str, tasks_times[i, :])))\n",
    "        task_file.write('\\n')\n",
    "        \n",
    "    for i in range(TEAMS):\n",
    "        task_file.write(' '.join(map(str, teams_costs[i, :])))\n",
    "        task_file.write('\\n')\n",
    "        \n",
    "    for i in range(TASKS):\n",
    "        task_file.write(' '.join(map(str, tasks_costs[i, :])))\n",
    "        task_file.write('\\n')"
   ]
  },
  {
   "cell_type": "code",
   "execution_count": 29,
   "id": "listed-agreement",
   "metadata": {},
   "outputs": [
    {
     "data": {
      "text/plain": [
       "(5, 20)"
      ]
     },
     "execution_count": 29,
     "metadata": {},
     "output_type": "execute_result"
    }
   ],
   "source": [
    "tasks_times.shape"
   ]
  },
  {
   "cell_type": "code",
   "execution_count": null,
   "id": "close-wireless",
   "metadata": {},
   "outputs": [],
   "source": []
  }
 ],
 "metadata": {
  "kernelspec": {
   "display_name": "Python 3",
   "language": "python",
   "name": "python3"
  },
  "language_info": {
   "codemirror_mode": {
    "name": "ipython",
    "version": 3
   },
   "file_extension": ".py",
   "mimetype": "text/x-python",
   "name": "python",
   "nbconvert_exporter": "python",
   "pygments_lexer": "ipython3",
   "version": "3.9.1"
  }
 },
 "nbformat": 4,
 "nbformat_minor": 5
}
